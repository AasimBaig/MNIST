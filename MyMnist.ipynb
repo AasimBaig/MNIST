{
  "nbformat": 4,
  "nbformat_minor": 0,
  "metadata": {
    "kernelspec": {
      "name": "python3",
      "display_name": "Python 3"
    },
    "language_info": {
      "codemirror_mode": {
        "name": "ipython",
        "version": 3
      },
      "file_extension": ".py",
      "mimetype": "text/x-python",
      "name": "python",
      "nbconvert_exporter": "python",
      "pygments_lexer": "ipython3",
      "version": "3.6.6"
    },
    "colab": {
      "name": "MyMnist.ipynb",
      "provenance": [],
      "collapsed_sections": []
    },
    "accelerator": "GPU"
  },
  "cells": [
    {
      "cell_type": "code",
      "metadata": {
        "id": "EOOjIQpMeQLK",
        "colab_type": "code",
        "colab": {
          "base_uri": "https://localhost:8080/",
          "height": 52
        },
        "outputId": "7f86f592-cfa1-488a-bdd8-4caf9757d3da"
      },
      "source": [
        "import numpy as np\n",
        "import matplotlib.pyplot as plt\n",
        "import pandas as pd\n",
        "import seaborn as sns\n",
        "import keras\n",
        "from keras.datasets import mnist\n",
        "from keras.models import Sequential\n",
        "from keras.layers import Conv2D,Dense,Flatten,Dropout,MaxPooling2D\n",
        "from keras.optimizers import Adadelta,RMSprop\n",
        "from keras import backend as k\n",
        "from keras.preprocessing.image import ImageDataGenerator\n",
        "from keras.callbacks import ReduceLROnPlateau\n",
        "from keras.utils import to_categorical\n",
        "print(\"All modules loaded Successfully\")"
      ],
      "execution_count": 1,
      "outputs": [
        {
          "output_type": "stream",
          "text": [
            "Using TensorFlow backend.\n"
          ],
          "name": "stderr"
        },
        {
          "output_type": "stream",
          "text": [
            "All modules loaded Successfully\n"
          ],
          "name": "stdout"
        }
      ]
    },
    {
      "cell_type": "code",
      "metadata": {
        "id": "GSRAjKMBeQLO",
        "colab_type": "code",
        "colab": {
          "base_uri": "https://localhost:8080/",
          "height": 139
        },
        "outputId": "0573fb0c-0059-49d7-ae33-24041e02fa96"
      },
      "source": [
        "# loading the data \n",
        "\n",
        "(xtr,ytr),(xts,yts) = mnist.load_data()\n",
        "print(\"Training Samples : \",xtr.shape[0])\n",
        "print(\"Testing Samples : \",xts.shape[0])\n",
        "batch_size = 86\n",
        "print(\"Batch-Size : \",batch_size)\n",
        "num_classes = 10\n",
        "print(\"How many different character ? -> \",num_classes)\n",
        "epochs = 10\n",
        "print(\"No of Epochs : \",epochs)\n",
        "img_rows , img_cols = 28,28"
      ],
      "execution_count": 2,
      "outputs": [
        {
          "output_type": "stream",
          "text": [
            "Downloading data from https://s3.amazonaws.com/img-datasets/mnist.npz\n",
            "11493376/11490434 [==============================] - 1s 0us/step\n",
            "Training Samples :  60000\n",
            "Testing Samples :  10000\n",
            "Batch-Size :  86\n",
            "How many different character ? ->  10\n",
            "No of Epochs :  10\n"
          ],
          "name": "stdout"
        }
      ]
    },
    {
      "cell_type": "code",
      "metadata": {
        "id": "b25k8QUUeQLQ",
        "colab_type": "code",
        "colab": {
          "base_uri": "https://localhost:8080/",
          "height": 269
        },
        "outputId": "85afa10d-62db-48f2-917e-c176d6ec772f"
      },
      "source": [
        "## Shows the dataset frequency\n",
        "## for example : we have around 6000 images of 0 \n",
        "train_plot = sns.countplot(ytr)"
      ],
      "execution_count": 3,
      "outputs": [
        {
          "output_type": "display_data",
          "data": {
            "image/png": "[encoded data removed]",
            "text/plain": [
              "<Figure size 432x288 with 1 Axes>"
            ]
          },
          "metadata": {
            "tags": []
          }
        }
      ]
    },
    {
      "cell_type": "code",
      "metadata": {
        "id": "u0mqT8QzeQLT",
        "colab_type": "code",
        "colab": {}
      },
      "source": [
        "# https://www.codesofinterest.com/2017/09/keras-image-data-format.html\n",
        "\n",
        "# tensorflow expect the data in (row, cols, channel) where as,\n",
        "# theano -> (channel, rows, cols)\n",
        "\n",
        "\n",
        "## in first layer of model.conv2d(data_format=\"channels_first\")\n",
        "\n",
        "if k.image_data_format () == \"channels_first\":\n",
        "    xtr = xtr.reshape(xtr.shape[0],1,img_rows,img_cols)\n",
        "    xts = xts.reshape(xts.shape[0],1,img_rows,img_cols)\n",
        "    input_shape = (1,img_rows,img_cols)\n",
        "else:\n",
        "    xtr = xtr.reshape(xtr.shape[0],img_rows,img_cols,1)\n",
        "    xts = xts.reshape(xts.shape[0],img_rows,img_cols,1)\n",
        "    input_shape = (img_rows,img_cols,1)"
      ],
      "execution_count": 0,
      "outputs": []
    },
    {
      "cell_type": "code",
      "metadata": {
        "id": "R8yW_wnHeQLV",
        "colab_type": "code",
        "colab": {
          "base_uri": "https://localhost:8080/",
          "height": 52
        },
        "outputId": "dee8a734-4d8f-4004-e2f0-159f367a3331"
      },
      "source": [
        "# data cleanup and normalization\n",
        "xtr = xtr.astype(\"float32\")\n",
        "xts = xts.astype(\"float32\")\n",
        "\n",
        "# makes our image \n",
        "xtr /= 255\n",
        "xts /= 255\n",
        "print(\"Shape of training data : \",xtr.shape)\n",
        "print(\"Shape of testing data : \",xts.shape)\n",
        "# Changing the output to -> 1 0 0 0 0 0 0 0 0 0\n",
        "ytr = to_categorical(ytr,num_classes)\n",
        "yts = to_categorical(yts,num_classes)"
      ],
      "execution_count": 5,
      "outputs": [
        {
          "output_type": "stream",
          "text": [
            "Shape of training data :  (60000, 28, 28, 1)\n",
            "Shape of testing data :  (10000, 28, 28, 1)\n"
          ],
          "name": "stdout"
        }
      ]
    },
    {
      "cell_type": "code",
      "metadata": {
        "id": "5dYoWJMJeQLX",
        "colab_type": "code",
        "colab": {
          "base_uri": "https://localhost:8080/",
          "height": 287
        },
        "outputId": "09f7170b-3a3e-42c9-d04d-7cae866450e3"
      },
      "source": [
        "# Testing whether data is properly formatted and in sync\n",
        "plt.title=(\"Testing Image\")\n",
        "plt.imshow(xtr[0][:,:,0])\n",
        "print(\"Training output : \",ytr[0])"
      ],
      "execution_count": 6,
      "outputs": [
        {
          "output_type": "stream",
          "text": [
            "Training output :  [0. 0. 0. 0. 0. 1. 0. 0. 0. 0.]\n"
          ],
          "name": "stdout"
        },
        {
          "output_type": "display_data",
          "data": {
            "image/png": "[encoded data removed]",
            "text/plain": [
              "<Figure size 432x288 with 1 Axes>"
            ]
          },
          "metadata": {
            "tags": []
          }
        }
      ]
    },
    {
      "cell_type": "code",
      "metadata": {
        "id": "H2_3YdydeQLZ",
        "colab_type": "code",
        "colab": {
          "base_uri": "https://localhost:8080/",
          "height": 817
        },
        "outputId": "93c1a438-562e-4570-f2e3-d8c576f645fa"
      },
      "source": [
        "model = Sequential()\n",
        "# 1 ->\n",
        "model.add(Conv2D(filters = 32,kernel_size = (5,5) ,activation = 'relu' ,padding = 'same',input_shape=(28,28,1)))\n",
        "model.add(Conv2D(filters = 32,kernel_size = (5,5) ,activation = 'relu' ,padding = 'same'))\n",
        "model.add(MaxPooling2D(pool_size = (2,2)))\n",
        "model.add(Dropout(0.25))\n",
        "# 2 ->\n",
        "model.add(Conv2D(filters = 64,kernel_size = (3,3) ,activation = 'relu' ,padding = 'same'))\n",
        "model.add(Conv2D(filters = 64,kernel_size = (3,3) ,activation = 'relu' ,padding = 'same'))\n",
        "model.add(MaxPooling2D(pool_size = (2,2),strides = (2,2)))\n",
        "model.add(Dropout(0.25))\n",
        "# 3 ->\n",
        "model.add(Flatten())\n",
        "#4 ->\n",
        "model.add(Dense(256,activation = 'relu'))\n",
        "# 5 ->\n",
        "model.add(Dropout(0.5))\n",
        "# 6 ->\n",
        "model.add(Dense(num_classes,activation='softmax'))\n",
        "\n",
        "# Summary of model - ::\n",
        "model.summary()"
      ],
      "execution_count": 7,
      "outputs": [
        {
          "output_type": "stream",
          "text": [
            "WARNING:tensorflow:From /usr/local/lib/python3.6/dist-packages/keras/backend/tensorflow_backend.py:66: The name tf.get_default_graph is deprecated. Please use tf.compat.v1.get_default_graph instead.\n",
            "\n",
            "WARNING:tensorflow:From /usr/local/lib/python3.6/dist-packages/keras/backend/tensorflow_backend.py:541: The name tf.placeholder is deprecated. Please use tf.compat.v1.placeholder instead.\n",
            "\n",
            "WARNING:tensorflow:From /usr/local/lib/python3.6/dist-packages/keras/backend/tensorflow_backend.py:4432: The name tf.random_uniform is deprecated. Please use tf.random.uniform instead.\n",
            "\n",
            "WARNING:tensorflow:From /usr/local/lib/python3.6/dist-packages/keras/backend/tensorflow_backend.py:4267: The name tf.nn.max_pool is deprecated. Please use tf.nn.max_pool2d instead.\n",
            "\n",
            "WARNING:tensorflow:From /usr/local/lib/python3.6/dist-packages/keras/backend/tensorflow_backend.py:148: The name tf.placeholder_with_default is deprecated. Please use tf.compat.v1.placeholder_with_default instead.\n",
            "\n",
            "WARNING:tensorflow:From /usr/local/lib/python3.6/dist-packages/keras/backend/tensorflow_backend.py:3733: calling dropout (from tensorflow.python.ops.nn_ops) with keep_prob is deprecated and will be removed in a future version.\n",
            "Instructions for updating:\n",
            "Please use `rate` instead of `keep_prob`. Rate should be set to `rate = 1 - keep_prob`.\n",
            "Model: \"sequential_1\"\n",
            "_________________________________________________________________\n",
            "Layer (type)                 Output Shape              Param #   \n",
            "=================================================================\n",
            "conv2d_1 (Conv2D)            (None, 28, 28, 32)        832       \n",
            "_________________________________________________________________\n",
            "conv2d_2 (Conv2D)            (None, 28, 28, 32)        25632     \n",
            "_________________________________________________________________\n",
            "max_pooling2d_1 (MaxPooling2 (None, 14, 14, 32)        0         \n",
            "_________________________________________________________________\n",
            "dropout_1 (Dropout)          (None, 14, 14, 32)        0         \n",
            "_________________________________________________________________\n",
            "conv2d_3 (Conv2D)            (None, 14, 14, 64)        18496     \n",
            "_________________________________________________________________\n",
            "conv2d_4 (Conv2D)            (None, 14, 14, 64)        36928     \n",
            "_________________________________________________________________\n",
            "max_pooling2d_2 (MaxPooling2 (None, 7, 7, 64)          0         \n",
            "_________________________________________________________________\n",
            "dropout_2 (Dropout)          (None, 7, 7, 64)          0         \n",
            "_________________________________________________________________\n",
            "flatten_1 (Flatten)          (None, 3136)              0         \n",
            "_________________________________________________________________\n",
            "dense_1 (Dense)              (None, 256)               803072    \n",
            "_________________________________________________________________\n",
            "dropout_3 (Dropout)          (None, 256)               0         \n",
            "_________________________________________________________________\n",
            "dense_2 (Dense)              (None, 10)                2570      \n",
            "=================================================================\n",
            "Total params: 887,530\n",
            "Trainable params: 887,530\n",
            "Non-trainable params: 0\n",
            "_________________________________________________________________\n"
          ],
          "name": "stdout"
        }
      ]
    },
    {
      "cell_type": "code",
      "metadata": {
        "id": "6kFXcQn5eQLf",
        "colab_type": "code",
        "colab": {}
      },
      "source": [
        "# Setting optimizer and Annealers(Learning Rate)\n",
        "optimizer = RMSprop(lr = 0.001,rho = 0.9,decay = 0.0,epsilon = 1e-8)"
      ],
      "execution_count": 0,
      "outputs": []
    },
    {
      "cell_type": "code",
      "metadata": {
        "id": "RG0uJdNXeQLj",
        "colab_type": "code",
        "colab": {
          "base_uri": "https://localhost:8080/",
          "height": 107
        },
        "outputId": "e1428241-5711-495f-c8fa-1a5de5e00e4e"
      },
      "source": [
        "# Compiling our model with optimizer, loss, metrics\n",
        "model.compile(optimizer = optimizer,loss = 'categorical_crossentropy',metrics = ['accuracy'])"
      ],
      "execution_count": 9,
      "outputs": [
        {
          "output_type": "stream",
          "text": [
            "WARNING:tensorflow:From /usr/local/lib/python3.6/dist-packages/keras/optimizers.py:793: The name tf.train.Optimizer is deprecated. Please use tf.compat.v1.train.Optimizer instead.\n",
            "\n",
            "WARNING:tensorflow:From /usr/local/lib/python3.6/dist-packages/keras/backend/tensorflow_backend.py:3576: The name tf.log is deprecated. Please use tf.math.log instead.\n",
            "\n"
          ],
          "name": "stdout"
        }
      ]
    },
    {
      "cell_type": "code",
      "metadata": {
        "id": "tRmBxHZbeQLn",
        "colab_type": "code",
        "colab": {}
      },
      "source": [
        "# Decreasing learning rate as we go\n",
        "learning_rate_reduction = ReduceLROnPlateau(monitor = 'val_acc',\n",
        "                                           patience = 3,\n",
        "                                           factor = 0.5,\n",
        "                                           verbose = 1,\n",
        "                                           min_lr = 0.00001)"
      ],
      "execution_count": 0,
      "outputs": []
    },
    {
      "cell_type": "code",
      "metadata": {
        "id": "Bb1GYDc5eQLr",
        "colab_type": "code",
        "colab": {}
      },
      "source": [
        "# Data Augmentation\n",
        "# Generate batches of tensor image data with real-time data augmentation.\n",
        "datagen = ImageDataGenerator(rotation_range = 10, # how much we want our image to be roated\n",
        "                            zoom_range = 0.1, # zoom range on image\n",
        "                            width_shift_range = 0.1, # change in width\n",
        "                            height_shift_range = 0.1, # change in height\n",
        "                            horizontal_flip = False,\n",
        "                            vertical_flip = False,\n",
        "                            featurewise_center = False,\n",
        "                            samplewise_center = False,\n",
        "                            featurewise_std_normalization = False,\n",
        "                            samplewise_std_normalization = False,\n",
        "                            zca_whitening = False)"
      ],
      "execution_count": 0,
      "outputs": []
    },
    {
      "cell_type": "code",
      "metadata": {
        "id": "hH7c8tfgeQLw",
        "colab_type": "code",
        "colab": {}
      },
      "source": [
        "#  do the data augmentation on our training set!\n",
        "datagen.fit(xtr)"
      ],
      "execution_count": 0,
      "outputs": []
    },
    {
      "cell_type": "code",
      "metadata": {
        "id": "Jyk57u1HeQL0",
        "colab_type": "code",
        "colab": {}
      },
      "source": [
        "# run our model !!\n",
        "history = model.fit_generator(datagen.flow(xtr,ytr,batch_size = batch_size), # datagen.flow -> for data augmentation\n",
        "                              epochs = epochs, # how many forward and backward pass of our training data! \n",
        "                              validation_data = (xts,yts), # validating on training set\n",
        "                              verbose = 1, # shows the op\n",
        "                             steps_per_epoch = xtr.shape[0], \n",
        "                             callbacks = [learning_rate_reduction]) # learning rate reducing as we go!"
      ],
      "execution_count": 0,
      "outputs": []
    },
    {
      "cell_type": "code",
      "metadata": {
        "id": "q1U5z2sAeQL5",
        "colab_type": "code",
        "colab": {
          "base_uri": "https://localhost:8080/",
          "height": 35
        },
        "outputId": "ddecbace-316e-4a88-fbad-6b6990a0173e"
      },
      "source": [
        "# checking for gpu :p\n",
        "from keras import backend as K\n",
        "K.tensorflow_backend._get_available_gpus()"
      ],
      "execution_count": 14,
      "outputs": [
        {
          "output_type": "execute_result",
          "data": {
            "text/plain": [
              "['/job:localhost/replica:0/task:0/device:GPU:0']"
            ]
          },
          "metadata": {
            "tags": []
          },
          "execution_count": 14
        }
      ]
    },
    {
      "cell_type": "code",
      "metadata": {
        "id": "bfWKcppQeQL9",
        "colab_type": "code",
        "colab": {},
        "cellView": "both"
      },
      "source": [
        "# beautiful plot of our loss and accuracy <3\n",
        "fig, ax = plt.subplots(2,1)\n",
        "ax[0].plot(history.history['loss'], color='b', label=\"Training loss\")\n",
        "ax[0].plot(history.history['val_loss'], color='r', label=\"validation loss\",axes =ax[0])\n",
        "legend = ax[0].legend(loc='best', shadow=True)\n",
        "\n",
        "ax[1].plot(history.history['acc'], color='b', label=\"Training accuracy\")\n",
        "ax[1].plot(history.history['val_acc'], color='r',label=\"Validation accuracy\")\n",
        "legend = ax[1].legend(loc='best', shadow=True)\n",
        "plt.savefig(\"loss.png\")\n",
        "\n",
        "score = model.evaluate(xts, yts, verbose=0)\n",
        "print('Test loss:', score[0])\n",
        "print('Test accuracy:', score[1])"
      ],
      "execution_count": 0,
      "outputs": []
    },
    {
      "cell_type": "code",
      "metadata": {
        "id": "UydvamJQeQMC",
        "colab_type": "code",
        "colab": {}
      },
      "source": [
        "# saving the model!\n",
        "model_json = model.to_json()\n",
        "with open(\"model.json\", \"w\") as json_file:\n",
        "    json_file.write(model_json)\n",
        "# serialize weights to HDF5\n",
        "model.save_weights(\"model.h5\")\n",
        "print(\"Saved model to disk\")"
      ],
      "execution_count": 0,
      "outputs": []
    },
    {
      "cell_type": "code",
      "metadata": {
        "id": "j7rrrKyHeQMF",
        "colab_type": "code",
        "colab": {}
      },
      "source": [
        "# reload the model and check wether our model is working or not!!\n",
        "json_file = open('model.json', 'r')\n",
        "loaded_model_json = json_file.read()\n",
        "json_file.close()\n",
        "loaded_model = model_from_json(loaded_model_json)\n",
        "# load weights into new model\n",
        "loaded_model.load_weights(\"model.h5\")\n",
        "print(\"Loaded model from disk\")\n"
      ],
      "execution_count": 0,
      "outputs": []
    },
    {
      "cell_type": "code",
      "metadata": {
        "id": "xdJY7z3_eQMH",
        "colab_type": "code",
        "colab": {}
      },
      "source": [
        "# evaluate loaded model on test data\n",
        "loaded_model.compile(loss='binary_crossentropy', optimizer='rmsprop', metrics=['accuracy'])\n",
        "score = loaded_model.evaluate(X, Y, verbose=0)\n",
        "print(\"%s: %.2f%%\" % (loaded_model.metrics_names[1], score[1]*100))"
      ],
      "execution_count": 0,
      "outputs": []
    }
  ]
}